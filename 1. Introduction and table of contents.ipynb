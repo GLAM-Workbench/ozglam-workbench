{
 "cells": [
  {
   "cell_type": "markdown",
   "metadata": {},
   "source": [
    "# The OzGLAM workbench"
   ]
  },
  {
   "cell_type": "markdown",
   "metadata": {},
   "source": [
    "A collection of tools, examples, and experiments to help you explore collection data from Australia's galleries, libraries, archives and museums.\n",
    "\n",
    "**This is an experimental project, so expect changes!**"
   ]
  },
  {
   "cell_type": "markdown",
   "metadata": {},
   "source": [
    "----\n",
    "\n",
    "## Contents\n",
    "\n",
    "This list will grow as I add more institutions, datasets, and examples -- check back often!\n",
    "\n",
    "* [Using the notebooks](2. Using these notebooks.ipynb) – a brief introduction to the wonders of Jupyter notebooks\n",
    "* [Trove](Trove/) – the National Library of Australia's essential, all purpose, research resource\n",
    "* [RecordSearch](RecordSearch/) – the National Archives of Australia's online database\n",
    "\n",
    "----"
   ]
  },
  {
   "cell_type": "markdown",
   "metadata": {},
   "source": [
    "## Running these notebooks\n",
    "\n",
    "You can access these notebooks in a number of different ways.\n",
    "\n",
    "### View on GitHub\n",
    "\n",
    "You can view the contents on [GitHub](https://github.com/wragge/ozglam-workbench), but note that these will be static versions so you won't be able to run any of the code.\n",
    "\n",
    "### Run locally with Jupyter\n",
    "\n",
    "If you have [Jupyter](http://jupyter.org/) installed, you can clone this repository, and then run Jupyter:\n",
    "\n",
    "```\n",
    "git clone https://github.com/wragge/ozglam-workbench.git\n",
    "cd ozglam-workbench\n",
    "jupyter notebook\n",
    "```\n",
    "\n",
    "### Run online with MyBinder\n",
    "\n",
    "To use a live version without installing any software, try [MyBinder](https://mybinder.org/): \n",
    "\n",
    "[![Binder](https://mybinder.org/badge.svg)](https://mybinder.org/v2/gh/wragge/ozglam-workbench/master)\n",
    "\n",
    "MyBinder launches the notebooks in a custom computing environment with all the software you'll need pre-installed. But note that these environments aren't persistent, so you'll need to make sure you download any data you want to keep.\n",
    "\n",
    "### Run locally with Docker\n",
    "\n",
    "I've created a [Docker image](https://hub.docker.com/r/wragge/ozglam-workbench/) that includes these notebooks and all the necessary software. Assuming you have [Docker](https://www.docker.com/) installed, just open up a terminal and run:\n",
    "\n",
    "``` shell\n",
    "docker run -it --name=Workbench -v WorkbenchData:/home/jovyan/workbench -p 8888:8888 wragge/ozglam-workbench\n",
    "```\n",
    "\n",
    "This creates a persistent data volume and runs the workbench image. Once Jupyter starts up it'll display a url in the terminal that looks something like:\n",
    "\n",
    "```\n",
    "http://localhost:8888/?token=262718512d11cc3efcb1b2878f4jja9uca071924e328d554\n",
    "```\n",
    "\n",
    "Just copy and paste this into your browser to open the notebooks.\n",
    "\n",
    "To restart the `WorkBench` container using the same data volume:\n",
    "\n",
    "``` shell\n",
    "docker start -ai Workbench\n",
    "```\n"
   ]
  },
  {
   "cell_type": "markdown",
   "metadata": {},
   "source": [
    "----\n",
    "\n",
    "Created by [Tim Sherratt](https://timsherratt.org) ([@wragge](https://twitter.com/wragge))\n",
    "\n",
    "Support this project on [Patreon](https://www.patreon.com/timsherratt). \n"
   ]
  },
  {
   "cell_type": "code",
   "execution_count": null,
   "metadata": {},
   "outputs": [],
   "source": []
  }
 ],
 "metadata": {
  "kernelspec": {
   "display_name": "Python 3",
   "language": "python",
   "name": "python3"
  },
  "language_info": {
   "codemirror_mode": {
    "name": "ipython",
    "version": 3
   },
   "file_extension": ".py",
   "mimetype": "text/x-python",
   "name": "python",
   "nbconvert_exporter": "python",
   "pygments_lexer": "ipython3",
   "version": "3.6.5"
  }
 },
 "nbformat": 4,
 "nbformat_minor": 2
}
