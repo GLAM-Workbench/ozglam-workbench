{
 "cells": [
  {
   "cell_type": "markdown",
   "metadata": {},
   "source": [
    "# 3. Working with zones"
   ]
  },
  {
   "cell_type": "markdown",
   "metadata": {},
   "source": [
    "* [Workbench home](../1-Introduction-and-table-of-contents.ipynb)\n",
    "* [Trove home](1-Introduction-to-the-Trove-API.ipynb)\n",
    "* [Using these notebooks](../2-Using-these-notebooks.ipynb)\n",
    "\n",
    "----"
   ]
  },
  {
   "cell_type": "markdown",
   "metadata": {},
   "source": [
    "Trove's zones are important in constructing API requests and interpreting the results. So let's explore them a bit.\n",
    "\n"
   ]
  },
  {
   "cell_type": "markdown",
   "metadata": {},
   "source": [
    "You're probably already familiar with Trove's zones from the web site.\n",
    "\n",
    "![Trove home page](images/trove_zones.png)\n",
    "\n",
    "There are 10 zones in Trove (11 if you regard the newspapers and gazettes as separate):\n",
    "\n",
    "* Digitised newspapers and gazettes \n",
    "* Journals, articles and data sets\n",
    "* Books\n",
    "* Pictures, photos and objects\n",
    "* Music, sound and video\n",
    "* Maps\n",
    "* Diaries, letters and archives\n",
    "* People and organisations\n",
    "* Archived websites\n",
    "* Lists\n",
    "\n",
    "However, data from the 'People and organisations' and 'Archives websites' zones are not available through the API. Well, sort of not...\n",
    "\n",
    "Let's see what the API itself can tell us about the zones."
   ]
  },
  {
   "cell_type": "markdown",
   "metadata": {},
   "source": [
    "## Setting things up"
   ]
  },
  {
   "cell_type": "markdown",
   "metadata": {},
   "source": [
    "We'll start by importing the modules we're going to need later on."
   ]
  },
  {
   "cell_type": "code",
   "execution_count": null,
   "metadata": {},
   "outputs": [],
   "source": [
    "# Let's import the modules we need \n",
    "import requests\n",
    "\n",
    "# Plotly helps us make pretty charts\n",
    "import plotly.offline as py\n",
    "import plotly.graph_objs as go\n",
    "\n",
    "# Pandas helps us analyse tabular data\n",
    "import pandas as pd\n",
    "\n",
    "# This lets Plotly draw charts in cells\n",
    "py.init_notebook_mode()"
   ]
  },
  {
   "cell_type": "markdown",
   "metadata": {},
   "source": [
    "As usual we're going to need a Trove API key."
   ]
  },
  {
   "cell_type": "code",
   "execution_count": null,
   "metadata": {},
   "outputs": [],
   "source": [
    "# This creates a variable called 'api_key', paste your key between the quotes\n",
    "api_key = ''\n",
    "\n",
    "# This displays a message with your key\n",
    "print('Your API key is: {}'.format(api_key))"
   ]
  },
  {
   "cell_type": "markdown",
   "metadata": {},
   "source": [
    "We'll also set the base url for our API requests."
   ]
  },
  {
   "cell_type": "code",
   "execution_count": null,
   "metadata": {},
   "outputs": [],
   "source": [
    "# Create a variable called 'api_search_url' and give it a value\n",
    "api_search_url = 'https://api.trove.nla.gov.au/result'"
   ]
  },
  {
   "cell_type": "markdown",
   "metadata": {},
   "source": [
    "## Give us everything!"
   ]
  },
  {
   "cell_type": "markdown",
   "metadata": {},
   "source": [
    "This time we're going to ask for **everything** from **all** the zones. (Don't worry, you won't break anything, Trove will only give us the first 20 results in each zone.)\n",
    "\n",
    "To do this, we'll set the `q` parameter to be an empty string (quotes around a space), and the `zone` parameter to 'all'."
   ]
  },
  {
   "cell_type": "code",
   "execution_count": null,
   "metadata": {},
   "outputs": [],
   "source": [
    "# This creates a dictionary called 'params' and sets values for the API's parameters\n",
    "params = {\n",
    "    'q': ' ', # A space to search for everything\n",
    "    'zone': 'all', # All zones thanks!\n",
    "    'key': api_key,\n",
    "    'encoding': 'json'\n",
    "}"
   ]
  },
  {
   "cell_type": "markdown",
   "metadata": {},
   "source": [
    "We can now send our request off to the Trove API. Because we're not applying any limits to our query, the API can take a little longer than normal to respond. Just wait for the asterix in the square brackets to turn into a number, and then move on."
   ]
  },
  {
   "cell_type": "code",
   "execution_count": null,
   "metadata": {},
   "outputs": [],
   "source": [
    "# This sends our request to the Trove API and stores the result in a variable called 'response'\n",
    "response = requests.get(api_search_url, params=params)\n",
    "\n",
    "# This shows us the url that's sent to the API\n",
    "print(response.url) # This shows us the url that's sent to the API\n",
    "\n",
    "# This checks the status code of the response to make sure there were no errors\n",
    "if response.status_code == requests.codes.ok:\n",
    "    print('All ok')\n",
    "elif response.status_code == 403:\n",
    "    print('There was an authentication error. Did you paste your API above?')\n",
    "else:\n",
    "    print('There was a problem. Error code: {}'.format(response.status_code))\n",
    "    print('Try running this cell again.')"
   ]
  },
  {
   "cell_type": "markdown",
   "metadata": {},
   "source": [
    "As before we'll get the JSON results data from the API response."
   ]
  },
  {
   "cell_type": "code",
   "execution_count": null,
   "metadata": {},
   "outputs": [],
   "source": [
    "# Get the Trove API's JSON results and make them available as a Python variable called 'data'\n",
    "data = response.json()"
   ]
  },
  {
   "cell_type": "markdown",
   "metadata": {},
   "source": [
    "If you'd like to have a look at the raw data, run the next cell."
   ]
  },
  {
   "cell_type": "code",
   "execution_count": null,
   "metadata": {},
   "outputs": [],
   "source": [
    "# Let's prettify the raw JSON data and then display it.\n",
    "\n",
    "# We're using the Pygments library to add some colour to the output, so we need to import it\n",
    "import json\n",
    "from pygments import highlight, lexers, formatters\n",
    "\n",
    "# This uses Python's JSON module to output the results as nicely indented text\n",
    "formatted_data = json.dumps(data, indent=2)\n",
    "\n",
    "# This colours the text\n",
    "highlighted_data = highlight(formatted_data, lexers.JsonLexer(), formatters.TerminalFormatter())\n",
    "\n",
    "# And now display the results\n",
    "print(highlighted_data)"
   ]
  },
  {
   "cell_type": "markdown",
   "metadata": {},
   "source": [
    "## Looking into the zones"
   ]
  },
  {
   "cell_type": "markdown",
   "metadata": {},
   "source": [
    "Now we've got data from all of Trove's zone – let's see what it looks like!\n",
    "\n",
    "The next code cell loops through each zone in the results and extracts the total number of results. Because we didn't apply any limits to our query, this will tell us how many items are currently in each zone."
   ]
  },
  {
   "cell_type": "code",
   "execution_count": null,
   "metadata": {},
   "outputs": [],
   "source": [
    "# Create empty lists to store 'zones' and 'totals'\n",
    "zones = []\n",
    "totals = []\n",
    "\n",
    "# Loop through the zones in the API results\n",
    "for zone in data['response']['zone']:\n",
    "\n",
    "    # Add the name and total values to the relevant list\n",
    "    zones.append(zone['name'])\n",
    "    totals.append(int(zone['records']['total']))\n",
    "        \n",
    "# Save the results as a dictionary\n",
    "zone_totals = {'zones': zones, 'totals': totals}"
   ]
  },
  {
   "cell_type": "markdown",
   "metadata": {},
   "source": [
    "We're now going to convert the results into a Pandas dataframe. Pandas has lots of useful options for working with and displaying tabular data."
   ]
  },
  {
   "cell_type": "code",
   "execution_count": null,
   "metadata": {},
   "outputs": [],
   "source": [
    "# Create a Pandas dataframe to work with the results\n",
    "df = pd.DataFrame(zone_totals)\n",
    "\n",
    "# Sort by zone name\n",
    "df = df.sort_values(by='zones')\n",
    "\n",
    "# Display as a table (formatting the numbers with comma separators for readability)\n",
    "df[['zones', 'totals']].style.format({'totals': '{:,}'})"
   ]
  },
  {
   "cell_type": "code",
   "execution_count": null,
   "metadata": {},
   "outputs": [],
   "source": [
    "# We can even use Pandas to display the results table with a simple bar chart\n",
    "df[['zones', 'totals']].style.format({'totals': '{:,}'}).bar(subset=['totals'], color='#d65f5f')"
   ]
  },
  {
   "cell_type": "markdown",
   "metadata": {},
   "source": [
    "That's pretty cool, but let's take things one step further and use Plotly to create a pretty interactive bar chart. As you can see from the cell below, Plotly is very easy to use."
   ]
  },
  {
   "cell_type": "code",
   "execution_count": null,
   "metadata": {},
   "outputs": [],
   "source": [
    "# Prepare our data for Plotly\n",
    "plotly_data = [go.Bar(\n",
    "            x=df['zones'],\n",
    "            y=df['totals']\n",
    "    )]\n",
    "\n",
    "# Create a chart using the default options\n",
    "py.iplot(plotly_data, filename='zones-bar')"
   ]
  },
  {
   "cell_type": "markdown",
   "metadata": {},
   "source": [
    "Ok, let's stop making pictures and look at what the results tell us. It's probably no surprise that there are more digitised newspaper articles that anything else.\n",
    "\n",
    "Most of the zone names are familiar, though it might not be immediately obvious that the 'article' zone corresponds to the 'Journals, articles and data sets' zone in the web interface.\n",
    "\n",
    "However, you might be wondering about 'collection'. It's not 'Lists' as there's already a 'list' zone in the results. It turns out that the 'collection' zone corresponds to the 'Diaries, letters and archives' zone in the web interface. I suppose it sort of makes sense.\n",
    "\n",
    "You might also have noticed that although I said that the API didn't include results for the 'People and organisations' zone, there is a result in the data above for 'people'. What's going on?\n",
    "\n",
    "Basically full support for the 'People and organisations' zone was never completed. Don't believe me? Let's have a look at the results.\n",
    "\n",
    "First we'll extract the results for the 'people' zone from the API data."
   ]
  },
  {
   "cell_type": "code",
   "execution_count": null,
   "metadata": {},
   "outputs": [],
   "source": [
    "# Create an empty list to store the results\n",
    "people_results = []\n",
    "\n",
    "# Loop through the zone results\n",
    "for zone in data['response']['zone']:\n",
    "    \n",
    "    # When we find the people zone save the records data to 'people_results'\n",
    "    if zone['name'] == 'people':\n",
    "        people_results = zone['records']['people']        "
   ]
  },
  {
   "cell_type": "markdown",
   "metadata": {},
   "source": [
    "Once again, we'll convert the results into a dataframe and display the first 5 rows as a table"
   ]
  },
  {
   "cell_type": "code",
   "execution_count": null,
   "metadata": {},
   "outputs": [],
   "source": [
    "# Create a datafram from 'people_results'\n",
    "people_df = pd.DataFrame(people_results)\n",
    "\n",
    "# Display the first 5 results as a table\n",
    "people_df[:5]"
   ]
  },
  {
   "cell_type": "markdown",
   "metadata": {},
   "source": [
    "You'll notice that there's not a lot of useful data – just identifiers and urls for the Trove web interface. If you try to use the identifier to get more information from the API you'll be out of luck – it returns a '404: Not Found' error.\n",
    "\n",
    "As I said, full support for the 'People and organisations' zone was never completed. Hopefully it will be added in a future release."
   ]
  },
  {
   "cell_type": "markdown",
   "metadata": {},
   "source": [
    "## More zone peculiarities"
   ]
  },
  {
   "cell_type": "markdown",
   "metadata": {},
   "source": [
    "There's another couple of peculiarities that you need to be aware of. The first is really more of an annoyance than a peculiarity. As you might have noticed above, to find the results for the 'people'zone I had to loop through all the zones until I found the one with the name 'people'. We can't just say, 'give me the people results!'. Of course, this is only an issue if you've asked for results from more than one zone. If you set the 'zone' parameter to a single zone – like 'newspaper' – the newspaper data would be the first (and only) set of results. You could find them at  `data['response']['zone'][0]`.\n",
    "\n",
    "You might also have noticed that the individual records from the 'people' zone were found at `zone['records']['people']`. What's wrong with that? Well, it means that different zones use different keys to identify their records. So you have to know in advance what the key is in order to get the records data. Again, if you're only working with one zone it's not too hard. But if you're working across multiple zones, it's a bit of a pain.\n",
    "\n",
    "At least we can use the data we've already gathered to create a mapping of zones to keys."
   ]
  },
  {
   "cell_type": "code",
   "execution_count": null,
   "metadata": {},
   "outputs": [],
   "source": [
    "# Create an empty list to store the results\n",
    "zone_keys = []\n",
    "\n",
    "# Loop through the zones\n",
    "for zone in data['response']['zone']:\n",
    "    \n",
    "    # Get the name of the zone\n",
    "    zone_name = zone['name']\n",
    "    \n",
    "    # Loop through the keys\n",
    "    for key in zone['records'].keys():\n",
    "        \n",
    "        # Check the key against the keys that are always there\n",
    "        if key not in ['s', 'n', 'total', 'next']:\n",
    "            # If it's not one of the standard keys save it\n",
    "            records_key = key\n",
    "    # Append the zone name and records key to our list\n",
    "    zone_keys.append({'zone_name': zone_name, 'records_key': records_key})\n",
    "    \n",
    "# Convert the results to a dataframe\n",
    "keys_df = pd.DataFrame(zone_keys)\n",
    "\n",
    "# Sort and display the results\n",
    "keys_df = keys_df.sort_values(by='records_key')\n",
    "keys_df[['zone_name', 'records_key']]\n",
    "            "
   ]
  },
  {
   "cell_type": "markdown",
   "metadata": {},
   "source": [
    "As you can see, the 'newspaper', 'list', and 'people' zones all have specific keys. Every other zone uses 'work'.\n",
    "\n",
    "We'll learn more about how to use these keys in the [Getting records](4. Getting records.ipynb) section."
   ]
  },
  {
   "cell_type": "markdown",
   "metadata": {},
   "source": [
    "## Finally...\n",
    "\n",
    "If you want to save the zones data, just run the cell below to create a CSV-formatted file."
   ]
  },
  {
   "cell_type": "code",
   "execution_count": null,
   "metadata": {},
   "outputs": [],
   "source": [
    "# Save the zones data to a CSV file you can download\n",
    "df.to_csv('data/trove_zones.csv', index=False)"
   ]
  },
  {
   "cell_type": "code",
   "execution_count": null,
   "metadata": {},
   "outputs": [],
   "source": []
  }
 ],
 "metadata": {
  "kernelspec": {
   "display_name": "Python 3",
   "language": "python",
   "name": "python3"
  },
  "language_info": {
   "codemirror_mode": {
    "name": "ipython",
    "version": 3
   },
   "file_extension": ".py",
   "mimetype": "text/x-python",
   "name": "python",
   "nbconvert_exporter": "python",
   "pygments_lexer": "ipython3",
   "version": "3.6.5"
  }
 },
 "nbformat": 4,
 "nbformat_minor": 2
}
