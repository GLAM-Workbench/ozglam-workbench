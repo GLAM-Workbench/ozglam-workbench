{
 "cells": [
  {
   "cell_type": "markdown",
   "metadata": {},
   "source": [
    "# Exploring facets"
   ]
  },
  {
   "cell_type": "markdown",
   "metadata": {},
   "source": [
    "First let's import a few things that we'll need. We're going to use [Plotly](https://plot.ly/python/) to create charts."
   ]
  },
  {
   "cell_type": "code",
   "execution_count": null,
   "metadata": {},
   "outputs": [],
   "source": [
    "import requests\n",
    "import plotly.offline as py\n",
    "import plotly.graph_objs as go\n",
    "import pandas as pd\n",
    "\n",
    "# Make sure data directory exists\n",
    "os.makedirs('../../data/Trove', exist_ok=True)\n",
    "\n",
    "py.init_notebook_mode()"
   ]
  },
  {
   "cell_type": "markdown",
   "metadata": {},
   "source": [
    "Insert your API key between the quotes."
   ]
  },
  {
   "cell_type": "code",
   "execution_count": null,
   "metadata": {},
   "outputs": [],
   "source": [
    "api_key = ''\n",
    "print('Your API key is: {}'.format(api_key))"
   ]
  },
  {
   "cell_type": "code",
   "execution_count": null,
   "metadata": {},
   "outputs": [],
   "source": [
    "api_search_url = 'https://api.trove.nla.gov.au/result'"
   ]
  },
  {
   "cell_type": "markdown",
   "metadata": {},
   "source": [
    "Set up our query parameters. We want everything, so we set the `q` parameter to be a single space."
   ]
  },
  {
   "cell_type": "code",
   "execution_count": null,
   "metadata": {},
   "outputs": [],
   "source": [
    "params = {\n",
    "    'q': ' ', # A space to search for everything\n",
    "    'facet': 'format',\n",
    "    'zone': 'book', \n",
    "    'key': api_key,\n",
    "    'encoding': 'json',\n",
    "    'n': 1\n",
    "}"
   ]
  },
  {
   "cell_type": "code",
   "execution_count": null,
   "metadata": {},
   "outputs": [],
   "source": [
    "response = requests.get(api_search_url, params=params)\n",
    "print(response.url) # This shows us the url that's sent to the API\n",
    "data = response.json()\n",
    "# print(data)"
   ]
  },
  {
   "cell_type": "code",
   "execution_count": null,
   "metadata": {},
   "outputs": [],
   "source": [
    "from operator import itemgetter\n",
    "\n",
    "def facet_totals():\n",
    "    '''\n",
    "    Loop through facets saving terms and counts.\n",
    "    Returns a list of dictionaries.\n",
    "    '''\n",
    "    facets = []\n",
    "    # Sort alphabetically by facet name\n",
    "    facet_list = sorted(data['response']['zone'][0]['facets']['facet']['term'], key=itemgetter('search'))\n",
    "    for term in facet_list:\n",
    "        term_count = int(term['count'])\n",
    "        if 'term' in term:\n",
    "            # There be sub-terms!\n",
    "            for subterm in sorted(term['term'], key=itemgetter('search')):\n",
    "                facets.append({'facet': subterm['search'], 'total': int(subterm['count'])})\n",
    "                # Subtract the subterm count from the term count\n",
    "                term_count = term_count - int(subterm['count'])\n",
    "                # print('{:<50} {:,}'.format(subterm['search'], int(subterm['count'])))\n",
    "        # print('{:<50} {:,}'.format(term['search'], term_count))\n",
    "        facets.append({'facet': term['search'], 'total': term_count})\n",
    "    return pd.DataFrame(facets)\n",
    "\n",
    "facet_totals = facet_totals()\n",
    "facet_totals"
   ]
  },
  {
   "cell_type": "markdown",
   "metadata": {},
   "source": [
    "Now we can create a bar chart using Plotly. The `x` values will be the zone names, and the `y` values will be the totals."
   ]
  },
  {
   "cell_type": "code",
   "execution_count": null,
   "metadata": {},
   "outputs": [],
   "source": [
    "# Comment out either or both of these lines if not necessary\n",
    "# Sort by total (highest to lowest) and take the top twenty\n",
    "top_facets = facet_totals.sort_values(by=\"total\", ascending=False)[:20]"
   ]
  },
  {
   "cell_type": "code",
   "execution_count": null,
   "metadata": {},
   "outputs": [],
   "source": [
    "# Create a bar chart\n",
    "plot_data = [go.Bar(\n",
    "            x=top_facets['facet'],\n",
    "            y=top_facets['total']\n",
    "    )]\n",
    "py.iplot(plot_data, filename='facets-bar')"
   ]
  },
  {
   "cell_type": "markdown",
   "metadata": {},
   "source": [
    "Or if you'd prefer a pie chart..."
   ]
  },
  {
   "cell_type": "code",
   "execution_count": null,
   "metadata": {},
   "outputs": [],
   "source": [
    "# Create a pie chart\n",
    "plot_data = [go.Pie(\n",
    "            labels=top_facets['facet'],\n",
    "            values=top_facets['total']\n",
    "    )]\n",
    "py.iplot(plot_data, filename='facets-pie')"
   ]
  },
  {
   "cell_type": "code",
   "execution_count": null,
   "metadata": {},
   "outputs": [],
   "source": [
    "facet_totals.to_csv('../../data/Trove/facet-{}.csv'.format(params['facet']), index=False)"
   ]
  },
  {
   "cell_type": "code",
   "execution_count": null,
   "metadata": {},
   "outputs": [],
   "source": []
  }
 ],
 "metadata": {
  "kernelspec": {
   "display_name": "Python 3",
   "language": "python",
   "name": "python3"
  },
  "language_info": {
   "codemirror_mode": {
    "name": "ipython",
    "version": 3
   },
   "file_extension": ".py",
   "mimetype": "text/x-python",
   "name": "python",
   "nbconvert_exporter": "python",
   "pygments_lexer": "ipython3",
   "version": "3.6.5"
  }
 },
 "nbformat": 4,
 "nbformat_minor": 2
}
