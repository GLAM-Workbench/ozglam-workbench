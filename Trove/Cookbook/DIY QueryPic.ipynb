{
 "cells": [
  {
   "cell_type": "markdown",
   "metadata": {},
   "source": [
    "# DIY QueryPic"
   ]
  },
  {
   "cell_type": "markdown",
   "metadata": {},
   "source": [
    "QueryPic is a tool I created many years ago to visualise searches in Trove's digitised newspapers. It's been through a number of versions, but the basic idea has stayed the same. QueryPic shows you the number of articles each year that match your query -- instead of a page of search results, you see the complete result set. You can look for patterns and trends across time.\n",
    "\n",
    "But underneath the hood QueryPic is pretty simple. So simple that we can make a see-through, hackable version here in this notebook!"
   ]
  },
  {
   "cell_type": "markdown",
   "metadata": {},
   "source": [
    "First let's import a few things that we'll need. We're going to use [Plotly](https://plot.ly/python/) to create charts."
   ]
  },
  {
   "cell_type": "code",
   "execution_count": null,
   "metadata": {},
   "outputs": [],
   "source": [
    "import requests\n",
    "from requests.exceptions import HTTPError, Timeout\n",
    "from operator import itemgetter # used for sorting\n",
    "import pandas as pd # makes manipulating the data easier\n",
    "import plotly.offline as py # for charts\n",
    "import plotly.graph_objs as go\n",
    "from utilities import retry # a retry function for API requests\n",
    "\n",
    "py.init_notebook_mode() # initialise plotly"
   ]
  },
  {
   "cell_type": "markdown",
   "metadata": {},
   "source": [
    "## Set up some variables "
   ]
  },
  {
   "cell_type": "markdown",
   "metadata": {},
   "source": [
    "Insert your API key between the quotes."
   ]
  },
  {
   "cell_type": "code",
   "execution_count": null,
   "metadata": {},
   "outputs": [],
   "source": [
    "api_key = ''\n",
    "print('Your API key is: {}'.format(api_key))"
   ]
  },
  {
   "cell_type": "code",
   "execution_count": null,
   "metadata": {},
   "outputs": [],
   "source": [
    "start = 181\n",
    "end = 195\n",
    "queries = ['cat', 'dog']"
   ]
  },
  {
   "cell_type": "code",
   "execution_count": null,
   "metadata": {},
   "outputs": [],
   "source": [
    "api_search_url = 'https://api.trove.nla.gov.au/result'"
   ]
  },
  {
   "cell_type": "markdown",
   "metadata": {},
   "source": [
    "Set up our query parameters. We want everything, so we set the `q` parameter to be a single space.\n",
    "\n",
    "l-title"
   ]
  },
  {
   "cell_type": "code",
   "execution_count": null,
   "metadata": {},
   "outputs": [],
   "source": [
    "params = {\n",
    "    'q': ' ', # A space to search for everything\n",
    "    'facet': 'year',\n",
    "    'zone': 'newspaper',\n",
    "    'l-category': 'Article',\n",
    "    'key': api_key,\n",
    "    'encoding': 'json',\n",
    "    'n': 0\n",
    "}"
   ]
  },
  {
   "cell_type": "markdown",
   "metadata": {},
   "source": [
    "## Define a few handy functions"
   ]
  },
  {
   "cell_type": "code",
   "execution_count": null,
   "metadata": {},
   "outputs": [],
   "source": [
    "@retry((HTTPError, Timeout), tries=10, delay=1)\n",
    "def get_results(decade, query):\n",
    "    '''\n",
    "    Get JSON response data from the Trove API.\n",
    "    Parameters:\n",
    "        q       - query string\n",
    "        decade  - eg 191 (for 1910-1919)\n",
    "    Returns:\n",
    "        JSON formatted response data from Trove API \n",
    "    '''\n",
    "    params['q'] = query\n",
    "    params['l-decade'] = decade\n",
    "    response = requests.get(api_search_url, params=params, timeout=30)\n",
    "    response.raise_for_status()\n",
    "    print(response.url) # This shows us the url that's sent to the API\n",
    "    data = response.json()\n",
    "    return data"
   ]
  },
  {
   "cell_type": "code",
   "execution_count": null,
   "metadata": {},
   "outputs": [],
   "source": [
    "def get_facets(data):\n",
    "    '''\n",
    "    Loop through facets in Trove API response, saving terms and counts.\n",
    "    Parameters:\n",
    "        data  - JSON formatted response data from Trove API  \n",
    "    Returns:\n",
    "        A list of dictionaries containing: 'year', 'total_results'\n",
    "    '''\n",
    "    facets = []\n",
    "    for term in data['response']['zone'][0]['facets']['facet']['term']:\n",
    "        facets.append({'year': int(term['display']), 'total_results': int(term['count'])})\n",
    "    facets.sort(key=itemgetter('year'))\n",
    "    return facets"
   ]
  },
  {
   "cell_type": "code",
   "execution_count": null,
   "metadata": {},
   "outputs": [],
   "source": [
    "def combine_totals(query_data, total_data):\n",
    "    '''\n",
    "    Take facets data from the query search and a blank search (ie everything) for a decade and combine them.\n",
    "    Parameters:\n",
    "        query_data    - list of dictionaries containing facets data from a query search\n",
    "        total_data    - list of dictionaries containing facets data from a blank search\n",
    "    Returns:\n",
    "        A list of dictionaries containing: 'year', 'total_results', 'total articles' \n",
    "    '''\n",
    "    combined_data = []\n",
    "    query_data = get_facets(query_data)\n",
    "    total_data = get_facets(total_data)\n",
    "    for index, query_row in enumerate(query_data):\n",
    "        total_row = total_data[index]\n",
    "        query_row['total_articles'] = total_row['total_results']\n",
    "        combined_data.append(query_row)\n",
    "    return combined_data "
   ]
  },
  {
   "cell_type": "code",
   "execution_count": null,
   "metadata": {},
   "outputs": [],
   "source": [
    "def year_totals(query):\n",
    "    '''\n",
    "    Generate a dataset for a search query.\n",
    "    Parameters:\n",
    "        query    - search query\n",
    "    Returns:\n",
    "        A Pandas dataframe with three columns -- year, total_results, total_articles -- and one row per year.\n",
    "    '''\n",
    "    totals = []\n",
    "    for decade in range(start, end+1):\n",
    "        print('Getting {}0'.format(decade))\n",
    "        query_data = get_results(decade, query)\n",
    "        total_data = get_results(decade, ' ')\n",
    "        combined_data = combine_totals(query_data, total_data)\n",
    "        totals.extend(combined_data)\n",
    "    totals.sort(key=itemgetter('year'))\n",
    "    return pd.DataFrame(totals)"
   ]
  },
  {
   "cell_type": "markdown",
   "metadata": {},
   "source": [
    "## Get some data!"
   ]
  },
  {
   "cell_type": "code",
   "execution_count": null,
   "metadata": {
    "scrolled": true
   },
   "outputs": [],
   "source": [
    "traces = {}\n",
    "for query in queries:\n",
    "    print('Searching for {}...'.format(query))\n",
    "    traces[query] = year_totals(query)"
   ]
  },
  {
   "cell_type": "code",
   "execution_count": null,
   "metadata": {},
   "outputs": [],
   "source": [
    "traces[queries[0]]"
   ]
  },
  {
   "cell_type": "markdown",
   "metadata": {},
   "source": [
    "## Plot raw number of articles per year\n",
    "\n",
    "Let's make a chart showing the raw number of articles per year."
   ]
  },
  {
   "cell_type": "code",
   "execution_count": null,
   "metadata": {},
   "outputs": [],
   "source": [
    "# Prepare data for Plotly\n",
    "raw_plot_data = []\n",
    "for query, trace in traces.items():\n",
    "    raw_plot_data.append(\n",
    "        go.Scatter (\n",
    "            x=trace.year,\n",
    "            y=trace.total_results,\n",
    "            name=query\n",
    "        )\n",
    "    )\n",
    "# Create the chart\n",
    "py.iplot(raw_plot_data, filename='articles-by-year')"
   ]
  },
  {
   "cell_type": "markdown",
   "metadata": {},
   "source": [
    "## Plot percentage of total articles per year\n",
    "\n",
    "In most cases the raw number of articles isn't terribly useful, because it doesn't take into account how many newspaper articles were published that year. Let's divide the number of results by the total number of articles to look at the percentage of articles each year that match our queries."
   ]
  },
  {
   "cell_type": "code",
   "execution_count": null,
   "metadata": {
    "scrolled": false
   },
   "outputs": [],
   "source": [
    "# Prepare data for Plotly\n",
    "av_plot_data = []\n",
    "for query, trace in traces.items():\n",
    "    av_plot_data.append(\n",
    "        go.Scatter (\n",
    "            x=trace.year,\n",
    "            y=trace.total_results/trace.total_articles*100,\n",
    "            name=query\n",
    "        )\n",
    "    )\n",
    "# Create the chart\n",
    "py.iplot(av_plot_data, filename='articles-by-year')"
   ]
  },
  {
   "cell_type": "markdown",
   "metadata": {},
   "source": [
    "## Save query data as CSV files\n",
    "\n",
    "One of the nifty things about pandas dataframes is that is stupidly easy to save them as CSVs. Just call `.to_csv()`."
   ]
  },
  {
   "cell_type": "code",
   "execution_count": null,
   "metadata": {},
   "outputs": [],
   "source": [
    "for query, trace in traces.items():\n",
    "    trace.to_csv('data/querypic-{}.csv'.format(query), index=False)"
   ]
  },
  {
   "cell_type": "code",
   "execution_count": null,
   "metadata": {},
   "outputs": [],
   "source": []
  }
 ],
 "metadata": {
  "kernelspec": {
   "display_name": "Python 3",
   "language": "python",
   "name": "python3"
  },
  "language_info": {
   "codemirror_mode": {
    "name": "ipython",
    "version": 3
   },
   "file_extension": ".py",
   "mimetype": "text/x-python",
   "name": "python",
   "nbconvert_exporter": "python",
   "pygments_lexer": "ipython3",
   "version": "3.6.5"
  }
 },
 "nbformat": 4,
 "nbformat_minor": 2
}
