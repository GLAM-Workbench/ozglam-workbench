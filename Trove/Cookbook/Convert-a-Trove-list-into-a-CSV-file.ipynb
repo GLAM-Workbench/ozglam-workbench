{
 "cells": [
  {
   "cell_type": "markdown",
   "metadata": {},
   "source": [
    "# Convert a Trove list into a CSV file\n",
    "\n",
    "This notebook converts [Trove lists](https://trove.nla.gov.au/list/result?q=) into CSV files (spreadsheets). Separate CSV files are created for newspaper articles and works from Trove's other zones. The OCRd text of each newspaper article is also saved in a individual text file.\n",
    "\n",
    "* To run a cell just hit **Shift+Enter** or click the play icon\n",
    "* To edit a cell, just click on it"
   ]
  },
  {
   "cell_type": "markdown",
   "metadata": {},
   "source": [
    "## Add your values to these two cells\n",
    "\n",
    "This is the only section that you'll need to edit. Paste your API key and list id in the cells below as indicated.\n",
    "\n",
    "If necessary, follow the instructions in the Trove Help to [obtain your own Trove API Key](http://help.nla.gov.au/trove/building-with-trove/api).\n",
    "\n",
    "The list id is the number in the url of your Trove list. So [the list](https://trove.nla.gov.au/list?id=83774) with this url `https://trove.nla.gov.au/list?id=83774` has an id of `83774`."
   ]
  },
  {
   "cell_type": "code",
   "execution_count": null,
   "metadata": {},
   "outputs": [],
   "source": [
    "# Paste you API key between the quotes, and then run the cell\n",
    "api_key = ''\n",
    "print('Your API key is: {}'.format(api_key))"
   ]
  },
  {
   "cell_type": "code",
   "execution_count": null,
   "metadata": {},
   "outputs": [],
   "source": [
    "# Paste your list id between the quotes, and then run the cell\n",
    "list_id = '83774'\n",
    "# If you don't want to save all the OCRd text, change True to False below\n",
    "save_texts = True"
   ]
  },
  {
   "cell_type": "markdown",
   "metadata": {},
   "source": [
    "## Set things up\n",
    "\n",
    "Run the cell below to load the necessary libraries and set up some directories to store the results."
   ]
  },
  {
   "cell_type": "code",
   "execution_count": null,
   "metadata": {},
   "outputs": [],
   "source": [
    "import requests\n",
    "from requests.exceptions import HTTPError, Timeout\n",
    "import pandas as pd\n",
    "import os\n",
    "import re\n",
    "import shutil\n",
    "from IPython.core.display import display, HTML\n",
    "\n",
    "# Make sure data directory exists\n",
    "data_dir = '../../data/Trove/converted-lists'\n",
    "os.makedirs(data_dir, exist_ok=True)\n",
    "\n",
    "list_dir = '{}/{}'.format(data_dir, list_id)\n",
    "os.makedirs('{}/texts'.format(list_dir), exist_ok=True)\n",
    "\n",
    "works = []\n",
    "articles = []"
   ]
  },
  {
   "cell_type": "markdown",
   "metadata": {},
   "source": [
    "## Define some functions\n",
    "\n",
    "Run the cell below to set up all the functions we'll need for the conversion."
   ]
  },
  {
   "cell_type": "code",
   "execution_count": null,
   "metadata": {},
   "outputs": [],
   "source": [
    "def listify(value):\n",
    "    '''\n",
    "    Sometimes values can be lists and sometimes not.\n",
    "    Turn them all into lists to make life easier.\n",
    "    '''\n",
    "    if isinstance(value, (str, int)):\n",
    "        try:\n",
    "            value = str(value)\n",
    "        except ValueError:\n",
    "            pass\n",
    "        value = [value]\n",
    "    return value\n",
    "\n",
    "def get_url(identifiers, linktype):\n",
    "    '''\n",
    "    Loop through the identifiers to find the request url.\n",
    "    '''\n",
    "    url = ''\n",
    "    for identifier in identifiers:\n",
    "        if identifier['linktype'] == linktype:\n",
    "            url = identifier['value']\n",
    "            break\n",
    "    return url\n",
    "\n",
    "def save_as_csv(data, data_type):\n",
    "    df = pd.DataFrame(data)\n",
    "    df.to_csv('{}/{}-{}.csv'.format(list_dir, list_id, data_type), index=False)\n",
    "    \n",
    "def make_filename(article):\n",
    "    date = article['date']\n",
    "    date = date.replace('-', '')\n",
    "    newspaper_id = article['title']['id']\n",
    "    article_id = article['id']\n",
    "    return '{}/texts/{}-{}-{}'.format(list_dir, date, newspaper_id, article_id)\n",
    "\n",
    "def get_list():\n",
    "    api_url = 'http://api.trove.nla.gov.au/list/{}?encoding=json&reclevel=full&include=listItems&key={}'\n",
    "    list_url = api_url.format(list_id, api_key)\n",
    "    response = requests.get(list_url)\n",
    "    return response.json()\n",
    "\n",
    "def get_article(id):\n",
    "    article_api_url = 'http://api.trove.nla.gov.au/newspaper/{}/?encoding=json&reclevel=full&include=articletext&key={}'.format(id, api_key)\n",
    "    response = requests.get(article_api_url)\n",
    "    return response.json()\n",
    "\n",
    "def harvest_list():\n",
    "    data = get_list()\n",
    "    print('Saving items...')\n",
    "    for item in data['list'][0]['listItem']:\n",
    "        for zone, record in item.items():\n",
    "            if zone == 'work':\n",
    "                work = {\n",
    "                    'id': record.get('id', ''),\n",
    "                    'title': record.get('title', ''),\n",
    "                    'type': '|'.join(listify(record.get('type', ''))),\n",
    "                    'issued': '|'.join(listify(record.get('issued', ''))),\n",
    "                    'contributor': '|'.join(listify(record.get('contributor', ''))),\n",
    "                    'trove_url': record.get('troveUrl', ''),\n",
    "                    'fulltext_url': get_url(record.get('identifier', ''), 'fulltext'),\n",
    "                    'thumbnail_url': get_url(record.get('identifier', ''), 'thumbnail')\n",
    "                }\n",
    "                works.append(work)\n",
    "            elif zone == 'article':\n",
    "                article = {\n",
    "                    'id': record.get('id'),\n",
    "                    'title': record.get('heading', ''),\n",
    "                    'category': record.get('category', ''),\n",
    "                    'date': record.get('date', ''),\n",
    "                    'newspaper_id': record.get('title', {}).get('id'),\n",
    "                    'newspaper_title': record.get('title', {}).get('value'),\n",
    "                    'page': record.get('page', ''),\n",
    "                    'page_sequence': record.get('pageSequence', ''),\n",
    "                    'trove_url': 'http://nla.gov.au/nla.news-article{}'.format(record.get('id', ''))\n",
    "                }\n",
    "                full_details = get_article(record.get('id'))\n",
    "                article['words'] = full_details['article'].get('wordCount', '')\n",
    "                article['illustrated'] = full_details['article'].get('illustrated', '')\n",
    "                article['corrections'] = full_details['article'].get('correctionCount', '')\n",
    "                if 'trovePageUrl' in full_details['article']:\n",
    "                    page_id = re.search(r'page\\/(\\d+)', full_details['article']['trovePageUrl']).group(1)\n",
    "                    article['page_url'] = 'http://trove.nla.gov.au/newspaper/page/{}'.format(page_id)\n",
    "                else:\n",
    "                    article['page_url'] = ''\n",
    "                if save_texts:\n",
    "                    text = full_details['article'].get('articleText')\n",
    "                    if text:\n",
    "                        text_filename = make_filename(record)\n",
    "                        text = re.sub('<[^<]+?>', '', text)\n",
    "                        text = re.sub(\"\\s\\s+\", \" \", text)\n",
    "                        text_file = '{}.txt'.format(text_filename)\n",
    "                        with open(text_file, 'wb') as text_output:\n",
    "                            text_output.write(text.encode('utf-8'))\n",
    "                articles.append(article)\n",
    "    print('Converting to CSV...')\n",
    "    if articles:\n",
    "        save_as_csv(articles, 'articles')\n",
    "    if works:\n",
    "        save_as_csv(works, 'works')\n",
    "    print('Finished!')"
   ]
  },
  {
   "cell_type": "markdown",
   "metadata": {},
   "source": [
    "## Let's do it!\n",
    "\n",
    "Run the cell below to start the conversion."
   ]
  },
  {
   "cell_type": "code",
   "execution_count": null,
   "metadata": {},
   "outputs": [],
   "source": [
    "harvest_list()"
   ]
  },
  {
   "cell_type": "markdown",
   "metadata": {},
   "source": [
    "## View the results\n",
    "\n",
    "You can browse the harvested files in the [data directory](../../data/Trove/converted-lists).\n",
    "\n",
    "Run the cells below for a preview of the CSV files."
   ]
  },
  {
   "cell_type": "code",
   "execution_count": null,
   "metadata": {
    "scrolled": true
   },
   "outputs": [],
   "source": [
    "# Preview newspaper articles CSV\n",
    "df_articles = pd.DataFrame(articles)\n",
    "df_articles"
   ]
  },
  {
   "cell_type": "code",
   "execution_count": null,
   "metadata": {
    "scrolled": true
   },
   "outputs": [],
   "source": [
    "# Preview works CSV\n",
    "df_works = pd.DataFrame(works)\n",
    "df_works"
   ]
  },
  {
   "cell_type": "markdown",
   "metadata": {},
   "source": [
    "## Download the results\n",
    "\n",
    "Run the cell below to zip up all the harvested files and create a download link."
   ]
  },
  {
   "cell_type": "code",
   "execution_count": null,
   "metadata": {},
   "outputs": [],
   "source": [
    "shutil.make_archive(list_dir, 'zip', list_dir)\n",
    "display(HTML('<a target=\"_blank\" href=\"{}/{}.zip\">Download your harvest</a>'.format(data_dir, list_id)))"
   ]
  }
 ],
 "metadata": {
  "kernelspec": {
   "display_name": "Python 3",
   "language": "python",
   "name": "python3"
  },
  "language_info": {
   "codemirror_mode": {
    "name": "ipython",
    "version": 3
   },
   "file_extension": ".py",
   "mimetype": "text/x-python",
   "name": "python",
   "nbconvert_exporter": "python",
   "pygments_lexer": "ipython3",
   "version": "3.6.5"
  }
 },
 "nbformat": 4,
 "nbformat_minor": 2
}
