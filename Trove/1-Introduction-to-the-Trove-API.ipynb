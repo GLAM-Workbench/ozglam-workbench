{
 "cells": [
  {
   "cell_type": "markdown",
   "metadata": {},
   "source": [
    "# 1. Introduction to the Trove API\n"
   ]
  },
  {
   "cell_type": "markdown",
   "metadata": {},
   "source": [
    "## What's an API?\n",
    "\n",
    "An API is an Application Programming Interface. It's a set of predefined requests and responses that enables computer programs talk to each other.\n",
    "\n",
    "Web APIs are generally used to deliver data. While humans can easily interpret information on a web page, computers need more help. APIs provide data in a form that computers can understand and use (we call this *machine-readable* data).\n",
    "\n",
    "The [Trove API](http://help.nla.gov.au/trove/building-with-trove/api) works much like the Trove website. You make queries and you get back results. But instead of going through a nicely-designed web interface, requests to the API are just URLs, and the results are just structured data."
   ]
  },
  {
   "cell_type": "markdown",
   "metadata": {},
   "source": [
    "## Cracking the code\n",
    "\n",
    "While you can just type an API request into the location box of your web browser, most of the time requests and responses will be handled by a computer script or program. APIs don't care what programming language you use as long as you structure requests in the way they expect.\n",
    "\n",
    "In these notebooks we'll be using the programming language Python. No prior knowledge of Python is expected or required -- just follow along! The examples and approaches used could be easily translated into any another programming language.\n",
    "\n",
    "If you haven't used Jupyter notebooks before, work through [this notebook](../2-Using-these-notebooks.ipynb) for a quick introduction."
   ]
  },
  {
   "cell_type": "markdown",
   "metadata": {},
   "source": [
    "## Tutorial topics\n",
    "\n",
    "* [Your first API request](2-Your-first-API-request.ipynb)\n",
    "* [Working with zones](3-Working-with-zones.ipynb)\n",
    "* Getting records\n",
    "* More complex queries\n",
    "* Working with newspaper articles\n",
    "* Newspaper titles\n",
    "* Works and versions\n",
    "* Finding URLs\n",
    "* Finding thumbnails\n",
    "* Working with contributors"
   ]
  },
  {
   "cell_type": "markdown",
   "metadata": {},
   "source": [
    "## Going further\n",
    "\n",
    "Once you've got the basics of the Trove API under your belt, you might like to dip into the Trove Cookbook for more examples and ideas.\n",
    "\n",
    "* [DIY QueryPic](Cookbook/DIY-QueryPic.ipynb)\n",
    "* [Exploring facets](Cookbook/Exploring-facets.ipynb)\n",
    "* Harvesting front pages\n",
    "* Harvesting parliamentary press releases\n",
    "* more to come...\n",
    "\n"
   ]
  },
  {
   "cell_type": "markdown",
   "metadata": {},
   "source": [
    "## TroveHarvester\n",
    "\n",
    "Do you want to harvest and use digitised newspaper articles in bulk? The Trove Harvester makes it easy, and you do it all right here inside a notebook!\n",
    "\n",
    "* [Using TroveHarvester to get newspaper articles in bulk](TroveHarvester/1-Using-TroveHarvester-to-get-newspaper articles-in-bulk.ipynb)\n",
    "* [Exploring your TroveHarvester data](TroveHarvester/2-Exploring-your-TroveHarvester-data.ipynb)\n",
    "* Analysing article texts"
   ]
  },
  {
   "cell_type": "code",
   "execution_count": null,
   "metadata": {},
   "outputs": [],
   "source": []
  }
 ],
 "metadata": {
  "kernelspec": {
   "display_name": "Python 3",
   "language": "python",
   "name": "python3"
  },
  "language_info": {
   "codemirror_mode": {
    "name": "ipython",
    "version": 3
   },
   "file_extension": ".py",
   "mimetype": "text/x-python",
   "name": "python",
   "nbconvert_exporter": "python",
   "pygments_lexer": "ipython3",
   "version": "3.6.5"
  }
 },
 "nbformat": 4,
 "nbformat_minor": 2
}
