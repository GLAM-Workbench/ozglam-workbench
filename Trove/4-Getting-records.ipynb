{
 "cells": [
  {
   "cell_type": "markdown",
   "metadata": {},
   "source": [
    "# 4. Getting records"
   ]
  },
  {
   "cell_type": "markdown",
   "metadata": {},
   "source": [
    "The individual item records are quite deeply nested in the results.\n",
    "\n",
    "`data['response']['zone']` is a list of dictionaries, one dictionary for each zone.\n",
    "\n",
    "Each dictionary includes the following values:\n",
    "\n",
    "* `name` -- the name of the zone\n",
    "* `records` -- another dictionary containing the search results\n",
    "    \n",
    "The `records` dictionary includes the following values:\n",
    "\n",
    "* `total` -- the number of matching search results in this zone\n",
    "* `n` -- the number of results in this set\n",
    "* `s` -- the starting point of this result set\n",
    "* `next` -- a path which when added to the base API url will return the next set of results\n",
    "* and of course the results set itself\n",
    "\n",
    "Somewhat annoyingly the key for the results set is different in different zones, so you need to know what it is in advance.\n",
    " \n",
    "| Zone       | Key       |\n",
    "| ---------- | --------- |\n",
    "| list       | `list`    |\n",
    "| people     | `people`  |\n",
    "| newspaper  | `article` |\n",
    "| book       | `work`    |\n",
    "| article    | `work`    |\n",
    "| picture    | `work`    |\n",
    "| map        | `work`    |\n",
    "| collection | `work`    |\n",
    "| music      | `work`    |\n",
    "\n",
    "For example, to get the results set from the newspapers you'd use `records['article']`."
   ]
  },
  {
   "cell_type": "code",
   "execution_count": null,
   "metadata": {},
   "outputs": [],
   "source": []
  }
 ],
 "metadata": {
  "kernelspec": {
   "display_name": "Python 3",
   "language": "python",
   "name": "python3"
  },
  "language_info": {
   "codemirror_mode": {
    "name": "ipython",
    "version": 3
   },
   "file_extension": ".py",
   "mimetype": "text/x-python",
   "name": "python",
   "nbconvert_exporter": "python",
   "pygments_lexer": "ipython3",
   "version": "3.6.5"
  }
 },
 "nbformat": 4,
 "nbformat_minor": 2
}
