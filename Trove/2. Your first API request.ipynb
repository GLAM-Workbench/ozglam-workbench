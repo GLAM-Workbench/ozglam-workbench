{
 "cells": [
  {
   "cell_type": "markdown",
   "metadata": {},
   "source": [
    "# 2. Your first API request"
   ]
  },
  {
   "cell_type": "markdown",
   "metadata": {},
   "source": [
    "In this section we're going to learn how to send a request for information to the Trove API.\n",
    "\n",
    "API requests are just like normal urls. However, instead of sending us back a web page, they deliver data in a form that computers can understand. We can then use that data in our own programs."
   ]
  },
  {
   "cell_type": "markdown",
   "metadata": {},
   "source": [
    "We're going to use the Python [Requests](http://docs.python-requests.org/en/master/) library to handle our API queries, so let's import it now."
   ]
  },
  {
   "cell_type": "code",
   "execution_count": null,
   "metadata": {},
   "outputs": [],
   "source": [
    "import requests"
   ]
  },
  {
   "cell_type": "markdown",
   "metadata": {},
   "source": [
    "## Getting an API key\n",
    "Any requests you make to the Trove API need to be authenticated with a 'key'. For non-commercial projects, you just  fill out a simple form and your API key is generated instantly. Follow the instructions in the Trove Help to [obtain your own Trove API Key](http://help.nla.gov.au/trove/building-with-trove/api).\n",
    "\n",
    "Once you've created a key, you can access it at any time on the 'For developers' tab of your Trove user profile.\n",
    "\n",
    "Copy your API key now, and paste it in the cell below, between the quotes."
   ]
  },
  {
   "cell_type": "code",
   "execution_count": null,
   "metadata": {},
   "outputs": [],
   "source": [
    "api_key = ''\n",
    "print('Your API key is: {}'.format(api_key))"
   ]
  },
  {
   "cell_type": "markdown",
   "metadata": {},
   "source": [
    "All search queries to the Trove API start with the same base url. We'll save it as a variable here."
   ]
  },
  {
   "cell_type": "code",
   "execution_count": null,
   "metadata": {},
   "outputs": [],
   "source": [
    "api_search_url = 'https://api.trove.nla.gov.au/result'"
   ]
  },
  {
   "cell_type": "markdown",
   "metadata": {},
   "source": [
    "Trove API queries are constructed by adding parameters to the base url. Most of the parameters are optional, but a few are mandatory:\n",
    "\n",
    "* `q` &ndash; 'q' for query, this is where search terms go\n",
    "* `zone` &ndash; which Trove zone (or zones) do you want to search, use 'all' for everything\n",
    "* `key` &ndash; your Trove API key\n",
    "\n",
    "If you don't want to specify a search term, you can just use a space or a plus sign &ndash; '&nbsp;' or '+' &ndash; as the value for `q`. Of course, this means that you're asking for *everything*, so Trove might take a bit longer to respond.\n",
    "\n",
    "The default output of the API is XML. For most applications it's easier to work with JSON. You set this using the `encoding` parameter.\n",
    "\n",
    "We'll meet some other parameters later, but for now let's create a Python dictionary to store our basic parameters. The `requests` library will take this dictionary, turn it into a string, and add it to the base url.\n"
   ]
  },
  {
   "cell_type": "code",
   "execution_count": null,
   "metadata": {},
   "outputs": [],
   "source": [
    "params = {\n",
    "    'q': 'cyclone', # Search for this keyword -- feel free to change!\n",
    "    'zone': 'newspaper', # Search in the newspaper zone\n",
    "    'key': api_key,\n",
    "    'encoding': 'json'\n",
    "}"
   ]
  },
  {
   "cell_type": "markdown",
   "metadata": {},
   "source": [
    "Ok, we're now now ready to make our first query!"
   ]
  },
  {
   "cell_type": "code",
   "execution_count": null,
   "metadata": {
    "scrolled": false
   },
   "outputs": [],
   "source": [
    "response = requests.get(api_search_url, params=params)\n",
    "print(response.url) # This shows us the url that's sent to the API"
   ]
  },
  {
   "cell_type": "markdown",
   "metadata": {},
   "source": [
    "The `response` variable contains the results in json format. Let's have a look at what they look like."
   ]
  },
  {
   "cell_type": "code",
   "execution_count": null,
   "metadata": {},
   "outputs": [],
   "source": [
    "data = response.json()\n",
    "import pprint # we can use pprint to nicely format the json\n",
    "pprint.pprint(data, width=140)"
   ]
  },
  {
   "cell_type": "markdown",
   "metadata": {},
   "source": [
    "The individual item records are quite deeply nested in the results.\n",
    "\n",
    "`data['response']['zone']` is a list of dictionaries, one dictionary for each zone.\n",
    "\n",
    "Each dictionary includes the following values:\n",
    "\n",
    "* `name` -- the name of the zone\n",
    "* `records` -- another dictionary containing the search results\n",
    "    \n",
    "The `records` dictionary includes the following values:\n",
    "\n",
    "* `total` -- the number of matching search results in this zone\n",
    "* `n` -- the number of results in this set\n",
    "* `s` -- the starting point of this result set\n",
    "* `next` -- a path which when added to the base API url will return the next set of results\n",
    "* and of course the results set itself\n",
    "\n",
    "Somewhat annoyingly the key for the results set is different in different zones, so you need to know what it is in advance.\n",
    " \n",
    "| Zone       | Key       |\n",
    "| ---------- | --------- |\n",
    "| list       | `list`    |\n",
    "| people     | `people`  |\n",
    "| newspaper  | `article` |\n",
    "| book       | `work`    |\n",
    "| article    | `work`    |\n",
    "| picture    | `work`    |\n",
    "| map        | `work`    |\n",
    "| collection | `work`    |\n",
    "| music      | `work`    |\n",
    "\n",
    "For example, to get the results set from the newspapers you'd use `records['article']`."
   ]
  },
  {
   "cell_type": "code",
   "execution_count": null,
   "metadata": {
    "scrolled": true
   },
   "outputs": [],
   "source": [
    "def zone_totals(data):\n",
    "    '''\n",
    "    Display totals in each zone.\n",
    "    '''\n",
    "    zones = []\n",
    "    for zone in data['response']['zone']:\n",
    "        print('{:<15} {:,}'.format(zone['name'], int(zone['records']['total'])))\n",
    "        zones.append(zone['name'])\n",
    "\n",
    "zone_totals(data)"
   ]
  },
  {
   "cell_type": "markdown",
   "metadata": {},
   "source": [
    "While the API returns results for the `people` zone, it's not really returning much useful data. Hopefully this will be fixed in the future, but for now you need to use a separate `people` API."
   ]
  },
  {
   "cell_type": "code",
   "execution_count": null,
   "metadata": {},
   "outputs": [],
   "source": [
    "record_labels = {\n",
    "    'list': 'list',\n",
    "    'people': 'people',\n",
    "    'newspaper': 'article',\n",
    "    'book': 'work',\n",
    "    'article': 'work',\n",
    "    'picture': 'work',\n",
    "    'map': 'work',\n",
    "    'collection': 'work',\n",
    "    'music': 'work'\n",
    "}"
   ]
  },
  {
   "cell_type": "code",
   "execution_count": null,
   "metadata": {},
   "outputs": [],
   "source": [
    "def list_titles(zone_name):\n",
    "    '''\n",
    "    List the titles in a specified zone.\n",
    "    eg: list_titles('newspaper')\n",
    "    '''\n",
    "    for zone in data['response']['zone']:\n",
    "        if zone['name'] == zone_name:\n",
    "            for record in zone['records'][record_labels[zone_name]]:\n",
    "                if 'heading' in record:\n",
    "                    print(record['heading'])\n",
    "                elif 'title' in record:\n",
    "                    print(record['title'])"
   ]
  },
  {
   "cell_type": "code",
   "execution_count": null,
   "metadata": {},
   "outputs": [],
   "source": [
    "list_titles('book')"
   ]
  },
  {
   "cell_type": "code",
   "execution_count": null,
   "metadata": {},
   "outputs": [],
   "source": []
  }
 ],
 "metadata": {
  "celltoolbar": "Raw Cell Format",
  "kernelspec": {
   "display_name": "Python 3",
   "language": "python",
   "name": "python3"
  },
  "language_info": {
   "codemirror_mode": {
    "name": "ipython",
    "version": 3
   },
   "file_extension": ".py",
   "mimetype": "text/x-python",
   "name": "python",
   "nbconvert_exporter": "python",
   "pygments_lexer": "ipython3",
   "version": "3.6.5"
  }
 },
 "nbformat": 4,
 "nbformat_minor": 2
}
