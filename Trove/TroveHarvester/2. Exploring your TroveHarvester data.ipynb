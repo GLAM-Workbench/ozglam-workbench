{
 "cells": [
  {
   "cell_type": "markdown",
   "metadata": {},
   "source": [
    "# Exploring your TroveHarvester data"
   ]
  },
  {
   "cell_type": "code",
   "execution_count": null,
   "metadata": {},
   "outputs": [],
   "source": [
    "import os\n",
    "import pandas as pd # makes manipulating the data easier\n",
    "import plotly.offline as py # for charts\n",
    "import plotly.graph_objs as go\n",
    "\n",
    "py.init_notebook_mode() # initialise plotly"
   ]
  },
  {
   "cell_type": "code",
   "execution_count": null,
   "metadata": {},
   "outputs": [],
   "source": [
    "def get_latest_harvest():\n",
    "    '''\n",
    "    Get the timestamp of the most recent harvest.\n",
    "    '''\n",
    "    harvests = sorted(os.listdir('data'))\n",
    "    return harvests[-1]"
   ]
  },
  {
   "cell_type": "code",
   "execution_count": null,
   "metadata": {},
   "outputs": [],
   "source": [
    "def open_harvest_data(timestamp=None):\n",
    "    '''\n",
    "    Open the results of the specified harvest (most recent by default).\n",
    "    \n",
    "    Returns a DataFrame.\n",
    "    '''\n",
    "    if not timestamp:\n",
    "        timestamp = get_latest_harvest()\n",
    "    print(timestamp)\n",
    "    df = pd.read_csv(os.path.join('data', timestamp, 'results.csv'))\n",
    "    return df  "
   ]
  },
  {
   "cell_type": "code",
   "execution_count": null,
   "metadata": {},
   "outputs": [],
   "source": [
    "df = open_harvest_data()"
   ]
  },
  {
   "cell_type": "code",
   "execution_count": null,
   "metadata": {},
   "outputs": [],
   "source": [
    "# Let's have a look!\n",
    "df"
   ]
  },
  {
   "cell_type": "code",
   "execution_count": null,
   "metadata": {},
   "outputs": [],
   "source": [
    "# Get the most common newspapers\n",
    "newspaper_counts = df['newspaper_title'].value_counts()\n",
    "top_newspapers = newspaper_counts[:20]\n",
    "newspaper_counts"
   ]
  },
  {
   "cell_type": "code",
   "execution_count": null,
   "metadata": {
    "scrolled": false
   },
   "outputs": [],
   "source": [
    "# Chart the most common newspapers\n",
    "trace = go.Bar (\n",
    "            x=top_newspapers.index.values,\n",
    "            y=top_newspapers.values\n",
    "        )\n",
    "plot_data = [trace]\n",
    "py.iplot(plot_data, filename='top-newspapers')\n"
   ]
  },
  {
   "cell_type": "code",
   "execution_count": null,
   "metadata": {},
   "outputs": [],
   "source": [
    "# Get the date distribition of articles\n",
    "date_counts= df['date'].value_counts().sort_index()"
   ]
  },
  {
   "cell_type": "code",
   "execution_count": null,
   "metadata": {},
   "outputs": [],
   "source": [
    "# Plot the date distribution\n",
    "trace = go.Scatter (\n",
    "            x=date_counts.index.values,\n",
    "            y=date_counts.values\n",
    "        )\n",
    "plot_data = [trace]\n",
    "py.iplot(plot_data, filename='number-by-date')"
   ]
  },
  {
   "cell_type": "markdown",
   "metadata": {},
   "source": [
    "## Explore article texts in Voyant Tools\n",
    "\n",
    "First we need to zip up all the little text files for easy transport."
   ]
  },
  {
   "cell_type": "code",
   "execution_count": null,
   "metadata": {},
   "outputs": [],
   "source": [
    "import zipfile\n",
    "\n",
    "def zip_harvest_texts(timestamp=None):\n",
    "    if not timestamp:\n",
    "        timestamp = get_latest_harvest()\n",
    "    data_dir = os.path.join('data', timestamp)\n",
    "    texts_dir = os.path.join(data_dir, 'text')\n",
    "    with zipfile.ZipFile(os.path.join(data_dir, '{}-texts.zip'.format(timestamp)), 'w', zipfile.ZIP_DEFLATED) as zip_file:\n",
    "        text_files = [t for t in os.listdir(texts_dir) if t[-4:] == '.txt']\n",
    "        for text_file in text_files:   \n",
    "            zip_file.write(os.path.join(texts_dir, text_file), text_file)\n",
    "\n",
    "zip_harvest_texts()"
   ]
  },
  {
   "cell_type": "code",
   "execution_count": null,
   "metadata": {},
   "outputs": [],
   "source": [
    "timestamp = get_latest_harvest()\n",
    "df['title'].to_csv(os.path.join('data', timestamp, 'titles.txt'), index=False, index_label=False)"
   ]
  },
  {
   "cell_type": "code",
   "execution_count": null,
   "metadata": {},
   "outputs": [],
   "source": [
    "from IPython.display import display, HTML\n",
    "display(HTML(\"<iframe style='width: 100%; height: 800px;' src='//voyant-tools.org/?view=Cirrus&corpus=ffc0ad785961dadd9cb00e698822e4ea'></iframe>\"))"
   ]
  },
  {
   "cell_type": "code",
   "execution_count": null,
   "metadata": {},
   "outputs": [],
   "source": []
  }
 ],
 "metadata": {
  "kernelspec": {
   "display_name": "Python 3",
   "language": "python",
   "name": "python3"
  },
  "language_info": {
   "codemirror_mode": {
    "name": "ipython",
    "version": 3
   },
   "file_extension": ".py",
   "mimetype": "text/x-python",
   "name": "python",
   "nbconvert_exporter": "python",
   "pygments_lexer": "ipython3",
   "version": "3.6.5"
  }
 },
 "nbformat": 4,
 "nbformat_minor": 2
}
